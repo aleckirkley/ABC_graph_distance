{
 "cells": [
  {
   "cell_type": "code",
   "execution_count": 2,
   "metadata": {},
   "outputs": [
    {
     "ename": "SyntaxError",
     "evalue": "invalid syntax (<ipython-input-2-39db021c79b8>, line 1)",
     "output_type": "error",
     "traceback": [
      "\u001b[0;36m  File \u001b[0;32m\"<ipython-input-2-39db021c79b8>\"\u001b[0;36m, line \u001b[0;32m1\u001b[0m\n\u001b[0;31m    import ../ABC_code\u001b[0m\n\u001b[0m           ^\u001b[0m\n\u001b[0;31mSyntaxError\u001b[0m\u001b[0;31m:\u001b[0m invalid syntax\n"
     ]
    }
   ],
   "source": [
    "import ABC_code"
   ]
  },
  {
   "cell_type": "code",
   "execution_count": null,
   "metadata": {},
   "outputs": [],
   "source": [
    "N,M=1000,10  \n",
    "G0 = generator_PA(N,M,alpha=1.3)\n",
    "distance_obj = distance(G0,distance_KS_degree,beta=1.)\n",
    "model_obj = model(generator_PA,free_parameters={'alpha':1.},priors={'alpha':prior_uniform(1.,1.5)},N=N,M=M)\n",
    "abc_obj = ABC(acc = acc, model_object = model_obj, distance_object = distance_obj, G0 = G0.copy()\\\n",
    "                  , eps = 0.025, hamiltonian = h_hard_cutoff, normalized = False, num_nulls = 'None',\\\n",
    "                  null_generator='None')\n",
    "abc_obj.run_sims(n_runs = 100000)"
   ]
  },
  {
   "cell_type": "code",
   "execution_count": null,
   "metadata": {},
   "outputs": [],
   "source": [
    "plt.hist(abc_obj.posterior['alpha'],bins=100)"
   ]
  },
  {
   "cell_type": "code",
   "execution_count": null,
   "metadata": {},
   "outputs": [],
   "source": [
    "# accs = np.linspace(1.,.01,100)\n",
    "# epses = []\n",
    "# for acc in accs:\n",
    "#     print(acc)\n",
    "#     abc_obj = ABC(acc = acc, model_object = model_obj, distance_object = distance_obj, G0 = G0.copy()\\\n",
    "#                   , eps = 'None', hamiltonian = h_hard_cutoff, normalized = False, num_nulls = 'None',\\\n",
    "#                   null_generator='None')\n",
    "\n",
    "#     abc_obj.get_eps_from_acc(max_runs=15, tol=.0001, eps_lower_init=0., \\\n",
    "#                              eps_upper_init=.2, window_size=1000, num_sims=5)\n",
    "    \n",
    "#     epses.append(abc_obj.eps)"
   ]
  },
  {
   "cell_type": "code",
   "execution_count": null,
   "metadata": {},
   "outputs": [],
   "source": [
    "import matplotlib.pyplot as plt\n",
    "plt.scatter(accs,epses,marker='+',c='black')\n",
    "plt.ylabel('Distance Threshold')\n",
    "plt.xlabel('Acceptance Rate')\n",
    "plt.show()"
   ]
  },
  {
   "cell_type": "code",
   "execution_count": null,
   "metadata": {},
   "outputs": [],
   "source": [
    "# Discrete choice model with options for:\n",
    "#         1. Generalized preferential attachment\n",
    "#             -estimate the exponent\n",
    "#         2. Triadic closure\n",
    "#             -estimate the closure probability\n",
    "#         3. Node fitness (drawn from power law)\n",
    "#             -estimate the exponent of the fitness distribution\n",
    "#     Formalism from 'Choosing to Grow a Graph: Modeling Network Formation as Discrete Choice'\n",
    "\n",
    "        "
   ]
  },
  {
   "cell_type": "code",
   "execution_count": null,
   "metadata": {},
   "outputs": [],
   "source": []
  }
 ],
 "metadata": {
  "kernelspec": {
   "display_name": "Python 3",
   "language": "python",
   "name": "python3"
  },
  "language_info": {
   "codemirror_mode": {
    "name": "ipython",
    "version": 3
   },
   "file_extension": ".py",
   "mimetype": "text/x-python",
   "name": "python",
   "nbconvert_exporter": "python",
   "pygments_lexer": "ipython3",
   "version": "3.7.3"
  }
 },
 "nbformat": 4,
 "nbformat_minor": 2
}
